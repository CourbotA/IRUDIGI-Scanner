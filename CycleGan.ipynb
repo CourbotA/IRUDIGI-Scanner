{
 "cells": [
  {
   "cell_type": "markdown",
   "metadata": {},
   "source": [
    "Imports that will be used to construct the model."
   ]
  },
  {
   "cell_type": "code",
   "execution_count": 1,
   "metadata": {},
   "outputs": [],
   "source": [
    "import numpy as np\n",
    "import tensorflow as tf\n",
    "import matplotlib.pyplot as plt\n",
    "from keras.layers import Input, Dense\n",
    "from keras.models import Model,Sequential\n",
    "from tensorflow.keras.optimizers import Adam\n",
    "from keras.layers import * \n",
    "from tensorflow_addons.layers import InstanceNormalization\n",
    "from glob import glob\n",
    "import os\n",
    "\n"
   ]
  },
  {
   "cell_type": "markdown",
   "metadata": {},
   "source": [
    "Set Configs"
   ]
  },
  {
   "cell_type": "code",
   "execution_count": 2,
   "metadata": {},
   "outputs": [],
   "source": [
    "\n",
    "IMG_WIDTH = 512\n",
    "IMG_HEIGHT = 512\n",
    "dataset_name = 'database2'\n",
    "\n",
    "#DOWNLOAD_URL = 'https://people.eecs.berkeley.edu/~taesung_park/CycleGAN/datasets/{}.zip'.format(dataset_name)\n",
    "\n"
   ]
  },
  {
   "cell_type": "markdown",
   "metadata": {},
   "source": [
    "Generators using the U-net architecture"
   ]
  },
  {
   "cell_type": "code",
   "execution_count": 3,
   "metadata": {},
   "outputs": [],
   "source": [
    "\n",
    "def build_generator(img_shape,channels=3,num_filters=64):\n",
    "    \"\"\"U-Net Generator\"\"\"\n",
    "\n",
    "    def upsample_block(incoming_layer,skip_input_layer,num_filters,kernel_size=4,dropout_rate=0):\n",
    "        \"\"\"Layers used during upsampling\"\"\"\n",
    "        upsample_layer = UpSampling2D(size=2)(incoming_layer)\n",
    "        upsample_layer = Conv2D(num_filters,kernel_size=kernel_size,strides=1,padding='same',activation='relu')(upsample_layer)\n",
    "        if dropout_rate:\n",
    "            upsample_layer = Dropout(dropout_rate)(upsample_layer)\n",
    "            upsample_layer = BatchNormalization(momentum=0.8)(upsample_layer)\n",
    "            upsample_layer = Concatenate()([upsample_layer, skip_input_layer])\n",
    "        return upsample_layer   \n",
    "    \n",
    "    def downsample_block(incoming_layer,num_filters,kernel_size=4,batch_normalization=True):\n",
    "        \"\"\"Layers used during downsampling\"\"\"\n",
    "        downsample_layer = Conv2D(num_filters,kernel_size=kernel_size,strides=2, padding='same')(incoming_layer)\n",
    "        downsample_layer = LeakyReLU(alpha=0.2)(downsample_layer)\n",
    "        if batch_normalization:\n",
    "            downsample_layer = BatchNormalization(momentum=0.8)(downsample_layer)\n",
    "        return downsample_layer\n",
    "\n",
    "    # Image input\n",
    "    input_layer = Input(shape=img_shape)\n",
    "    # Downsampling\n",
    "    down_sample_1 = downsample_block(input_layer,\n",
    "    num_filters,\n",
    "    batch_normalization=False)\n",
    "    # rest of the downsampling blocks have batch_normalization=true\n",
    "    down_sample_2 = downsample_block(down_sample_1, num_filters*2)\n",
    "    down_sample_3 = downsample_block(down_sample_2, num_filters*4)\n",
    "    down_sample_4 = downsample_block(down_sample_3, num_filters*8)\n",
    "    down_sample_5 = downsample_block(down_sample_4, num_filters*8)\n",
    "    down_sample_6 = downsample_block(down_sample_5, num_filters*8)\n",
    "    down_sample_7 = downsample_block(down_sample_6, num_filters*8)\n",
    "    # Upsampling blocks with skip connections\n",
    "    upsample_1 = upsample_block(down_sample_7, down_sample_6,num_filters*8)\n",
    "    upsample_2 = upsample_block(upsample_1, down_sample_5,num_filters*8)\n",
    "    upsample_3 = upsample_block(upsample_2, down_sample_4,num_filters*8)\n",
    "    upsample_4 = upsample_block(upsample_3, down_sample_3,num_filters*8)\n",
    "    upsample_5 = upsample_block(upsample_4, down_sample_2,num_filters*2)\n",
    "    upsample_6 = upsample_block(upsample_5, down_sample_1, num_filters)\n",
    "    upsample_7 = UpSampling2D(size=2)(upsample_6)\n",
    "    output_img = Conv2D(channels,kernel_size=4,strides=1,padding='same',activation='tanh')(upsample_7)\n",
    "    return Model(input_layer, output_img)\n"
   ]
  },
  {
   "cell_type": "markdown",
   "metadata": {},
   "source": [
    "Discriminator function"
   ]
  },
  {
   "cell_type": "code",
   "execution_count": 4,
   "metadata": {},
   "outputs": [],
   "source": [
    "def build_discriminator(img_shape,num_filters=64):\n",
    "    \"\"\" discrimitator block \"\"\"\n",
    "    def discriminator_block(incoming_layer,num_filters,kernel_size = 4,instance_normalization=True):\n",
    "        disc_layer = Conv2D(num_filters,kernel_size=kernel_size,strides=2,padding='same')(incoming_layer)\n",
    "        disc_layer = LeakyReLU(alpha = 0.2)(disc_layer)\n",
    "        if instance_normalization:\n",
    "            disc_layer = InstanceNormalization()(disc_layer)\n",
    "        return disc_layer\n",
    "\n",
    "    input_layer = Input(shape=img_shape)\n",
    "    #first layer not normalized\n",
    "    disc_block_1 = discriminator_block(input_layer,num_filters,instance_normalization=False)\n",
    "    disc_block_2 = discriminator_block(disc_block_1, num_filters*2)\n",
    "    disc_block_3 = discriminator_block(disc_block_2, num_filters*4)\n",
    "    disc_block_4 = discriminator_block(disc_block_3, num_filters*8)\n",
    "    output = Conv2D(1, kernel_size=4, strides=1, padding='same')(disc_block_4)\n",
    "    \n",
    "    return Model(input_layer, output)\n"
   ]
  },
  {
   "cell_type": "markdown",
   "metadata": {},
   "source": [
    "GAN setup"
   ]
  },
  {
   "cell_type": "code",
   "execution_count": 5,
   "metadata": {},
   "outputs": [
    {
     "name": "stdout",
     "output_type": "stream",
     "text": [
      "Patch Shape=(32, 32, 1)\n"
     ]
    }
   ],
   "source": [
    "generator_filters = 32\n",
    "discriminator_filters = 64\n",
    "\n",
    "# input shape\n",
    "channels = 3\n",
    "input_shape = (IMG_HEIGHT, IMG_WIDTH, channels)\n",
    "# Loss weights\n",
    "lambda_cycle = 10.0\n",
    "\n",
    "lambda_identity = 0.1 * lambda_cycle\n",
    "optimizer = Adam(0.0002, 0.5)\n",
    "\n",
    "# prepare patch size for our setup\n",
    "patch = int(IMG_HEIGHT / 2**4)\n",
    "patch_gan_shape = (patch, patch, 1)\n",
    "print(\"Patch Shape={}\".format(patch_gan_shape))\n",
    "\n",
    "# Discriminators\n",
    "disc_A = build_discriminator(input_shape,discriminator_filters)\n",
    "disc_A.compile(loss='mse',optimizer=optimizer,metrics=['accuracy'])\n",
    "disc_B = build_discriminator(input_shape,discriminator_filters)\n",
    "disc_B.compile(loss='mse',optimizer=optimizer,metrics=['accuracy'])\n",
    "\n",
    "# Generators\n",
    "gen_AB = build_generator(input_shape,channels, generator_filters)\n",
    "gen_BA = build_generator(input_shape, channels, generator_filters)\n",
    "\n",
    "# CycleGAN\n",
    "img_A = Input(shape=input_shape)\n",
    "img_B = Input(shape=input_shape)\n",
    "\n",
    "# generate fake samples from both generators\n",
    "fake_B = gen_AB(img_A)\n",
    "fake_A = gen_BA(img_B)\n",
    "\n",
    "# reconstruct original samples from both generators\n",
    "reconstruct_A = gen_BA(fake_B)\n",
    "reconstruct_B = gen_AB(fake_A)\n",
    "\n",
    "# generate identity samples\n",
    "identity_A = gen_BA(img_A)\n",
    "identity_B = gen_AB(img_B)\n",
    "\n",
    "# use discriminator to classify real vs fake\n",
    "output_A = disc_A(fake_A)\n",
    "output_B = disc_B(fake_B)\n",
    "\n",
    "# Combined model trains generators to fool discriminators\n",
    "gan = Model(inputs=[img_A, img_B],\n",
    "outputs=[output_A, output_B,reconstruct_A, reconstruct_B,identity_A, identity_B ])\n",
    "\n",
    "gan.compile(loss=['mse', 'mse','mae', 'mae','mae', 'mae'],loss_weights=[1, 1,lambda_cycle, lambda_cycle,lambda_identity, lambda_identity ],optimizer=optimizer)\n"
   ]
  },
  {
   "cell_type": "markdown",
   "metadata": {},
   "source": [
    "Function that generates a batch of images"
   ]
  },
  {
   "cell_type": "code",
   "execution_count": 6,
   "metadata": {},
   "outputs": [],
   "source": [
    "def batch_generator(path,\n",
    "                    batch_size=1,\n",
    "                    image_res=[128, 128],\n",
    "                    is_testing=False):\n",
    "    \"\"\"\n",
    "    Method to generate batch of images\n",
    "    Parameters:\n",
    "        path: type:str. Path to the dataset\n",
    "        batch_size: type:int. Number of images required\n",
    "        image_res: type:int list. Array denoting the resized [H,W] of image\n",
    "        is_testing: type: bool. Flag to control random flipping\n",
    "    Returns:\n",
    "        yields a tuple of two lists (source,target)\n",
    "    \"\"\"\n",
    "    data_type = \"train\" if not is_testing else \"test\"\n",
    "    path_A = [os.path.normpath(i) for i in glob('{}/{}A/*'.format(path, data_type))]\n",
    "    path_B = [os.path.normpath(i) for i in glob('{}/{}B/*'.format(path, data_type))]\n",
    "\n",
    "    num_batches = int(min(len(path_A), len(path_B)) / batch_size)\n",
    "    num_samples = num_batches * batch_size\n",
    "\n",
    "    # get num_samples from each domain\n",
    "    path_A = np.random.choice(path_A, num_samples, replace=False)\n",
    "    path_B = np.random.choice(path_B, num_samples, replace=False)\n",
    "\n",
    "    for i in range(num_batches-1):\n",
    "        batch_A = path_A[i*batch_size:(i+1)*batch_size]\n",
    "        batch_B = path_B[i*batch_size:(i+1)*batch_size]\n",
    "        imgs_A, imgs_B = [], []\n",
    "        for img_A, img_B in zip(batch_A, batch_B):\n",
    "            img_A = imread(img_A, image_res)\n",
    "            img_B = imread(img_B, image_res)\n",
    "\n",
    "            if not is_testing and np.random.random() > 0.5:\n",
    "                img_A = np.fliplr(img_A)\n",
    "                img_B = np.fliplr(img_B)\n",
    "\n",
    "            imgs_A.append(img_A)\n",
    "            imgs_B.append(img_B)\n",
    "\n",
    "        imgs_A = np.array(imgs_A)\n",
    "        imgs_B = np.array(imgs_B)\n",
    "\n",
    "        yield imgs_A, imgs_B\n"
   ]
  },
  {
   "cell_type": "markdown",
   "metadata": {},
   "source": [
    "Training loop"
   ]
  },
  {
   "cell_type": "code",
   "execution_count": 7,
   "metadata": {},
   "outputs": [],
   "source": [
    "def train(gen_AB,gen_BA,disc_A,disc_B,gan,patch_gan_shape,epochs,\n",
    "            path='C:/content/{}'.format(dataset_name),batch_size=1,sample_interval=50):\n",
    "\n",
    "    # Adversarial loss ground truths\n",
    "    real_y = np.ones((batch_size,) + patch_gan_shape)\n",
    "    fake_y = np.zeros((batch_size,) + patch_gan_shape)\n",
    "    for epoch in range(epochs):\n",
    "        print(\"Epoch={}\".format(epoch))\n",
    "        for idx, (imgs_A, imgs_B) in enumerate(batch_generator(path,batch_size,image_res=[IMG_HEIGHT, IMG_WIDTH])):\n",
    "            \n",
    "            # train discriminators\n",
    "            # generate fake samples from both generators\n",
    "            fake_B = gen_AB.predict(imgs_A)\n",
    "            fake_A = gen_BA.predict(imgs_B)\n",
    "            if idx % 5 == 0:            # Train the discriminators 1/5 of the generators.\n",
    "                disc_A.trainable = True\n",
    "                disc_B.trainable = True \n",
    "\n",
    "            # (original images = real / translated = Fake)\n",
    "            disc_A_loss_real = disc_A.train_on_batch(imgs_A, real_y)\n",
    "            disc_A_loss_fake = disc_A.train_on_batch(fake_A, fake_y)\n",
    "            disc_A_loss = 0.5 * np.add(disc_A_loss_real,disc_A_loss_fake)\n",
    "\n",
    "            disc_B_loss_real = disc_B.train_on_batch(imgs_B, real_y)\n",
    "            disc_B_loss_fake = disc_B.train_on_batch(fake_B, fake_y)\n",
    "            disc_B_loss = 0.5 * np.add(disc_B_loss_real,disc_B_loss_fake)\n",
    "\n",
    "            # disable train\n",
    "            disc_A.trainable = False\n",
    "            disc_B.trainable = False \n",
    "            \n",
    "            # Total disciminator loss\n",
    "            discriminator_loss = 0.5 * np.add(disc_A_loss, disc_B_loss)\n",
    "\n",
    "            # train generator\n",
    "            gen_loss = gan.train_on_batch([imgs_A, imgs_B],[real_y, real_y,imgs_A, imgs_B,imgs_A, imgs_B])\n",
    "\n",
    "            # training updates every 50 iterations\n",
    "           # if idx % 50 == 0:\n",
    "            print (\"[Epoch {}/{}] [Discriminator loss: {}, accuracy:{}][Generator loss: {}, Adversarial Loss: {}, Reconstruction Loss: {},Identity Loss: {}]\".format(idx,epochs,discriminator_loss[0],100*discriminator_loss[1],\n",
    "                        gen_loss[0],np.mean(gen_loss[1:3]),np.mean(gen_loss[3:5]),np.mean(gen_loss[5:6])))\n",
    "        \n",
    "            # Plot and Save progress every few iterations\n",
    "            if idx % sample_interval == 0:\n",
    "                plot_sample_images(gen_AB,gen_BA,path=path,epoch=epoch,batch_num=idx,output_dir='images')\n",
    "\n"
   ]
  },
  {
   "cell_type": "markdown",
   "metadata": {},
   "source": [
    "Begin training"
   ]
  },
  {
   "cell_type": "code",
   "execution_count": 8,
   "metadata": {},
   "outputs": [],
   "source": [
    "def plot_sample_images(gen_AB,\n",
    "                       gen_BA,\n",
    "                       path,\n",
    "                       epoch=0,\n",
    "                       batch_num=1,\n",
    "                       output_dir='maps'):\n",
    "    \"\"\"\n",
    "    Method to plot sample outputs from generator\n",
    "    Parameters:\n",
    "        g_AB        :   type:keras model object. Generator model from A->B\n",
    "        gen_BA      :   type:keras model object. Generator model from B->A\n",
    "        path        :   type:str. Path to dataset\n",
    "        epoch       :   type:int. Epoch number, used for output file name\n",
    "        batch_num   :   type:int. Batch number, used for output file name\n",
    "        output_dir  :   type:str. Path to save generated output samples\n",
    "    Returns:\n",
    "        None\n",
    "    \"\"\"\n",
    "    imgs_A = get_samples(path, domain=\"A\", batch_size=1, is_testing=True, image_res=[IMG_HEIGHT, IMG_WIDTH])\n",
    "    imgs_B = get_samples(path, domain=\"B\", batch_size=1, is_testing=True, image_res=[IMG_HEIGHT, IMG_WIDTH])\n",
    "\n",
    "    # generate fake samples from both generators\n",
    "    fake_B = gen_AB.predict(imgs_A)\n",
    "    fake_A = gen_BA.predict(imgs_B)\n",
    "\n",
    "    # reconstruct orginal samples from both generators\n",
    "    reconstruct_A = gen_BA.predict(fake_B)\n",
    "    reconstruct_B = gen_AB.predict(fake_A)\n",
    "\n",
    "    gen_imgs = np.concatenate([imgs_A, fake_B,\n",
    "                               reconstruct_A,\n",
    "                               imgs_B, fake_A,\n",
    "                               reconstruct_B])\n",
    "\n",
    "    # scale images 0 - 1\n",
    "    gen_imgs = 0.5 * gen_imgs + 0.5\n",
    "\n",
    "    os.makedirs(output_dir, exist_ok=True)\n",
    "    titles = ['Original', 'Translated', 'Reconstructed']\n",
    "\n",
    "    r, c = 2, 3\n",
    "    fig, axs = plt.subplots(r, c)\n",
    "    cnt = 0\n",
    "    for i in range(r):\n",
    "      for j in range(c):\n",
    "          axs[i,j].imshow(gen_imgs[cnt])\n",
    "          axs[i, j].set_title(titles[j])\n",
    "          axs[i,j].axis('off')\n",
    "          cnt += 1\n",
    "    fig.savefig(\"{}/{}_{}.png\".format(output_dir, epoch, batch_num))\n",
    "    plt.show()\n",
    "    plt.close()\n"
   ]
  },
  {
   "cell_type": "code",
   "execution_count": 9,
   "metadata": {},
   "outputs": [],
   "source": [
    "def get_samples(path,\n",
    "                domain='A',\n",
    "                batch_size=1,\n",
    "                image_res=[128, 128],\n",
    "                is_testing=False):\n",
    "    \"\"\"\n",
    "    Method to get a random sample of images\n",
    "    Parameters:\n",
    "        path        : type:str. Path to the dataset\n",
    "        domain: type:str. Domain A or B to pick samples from.\n",
    "        batch_size  : type:int. Number of images required\n",
    "        image_res   : type:int list. Array denoting the resized [H,W] of image\n",
    "        is_testing  : type: bool. Flag to control random flipping\n",
    "    Returns:\n",
    "        A list of randomly sampled images\n",
    "    \"\"\"\n",
    "    data_type = \"train%s\" % domain if not is_testing else \"test%s\" % domain\n",
    "    path = [os.path.normpath(i) for i in glob('{}/{}/*'.format(path, data_type))]\n",
    "\n",
    "    random_sample = np.random.choice(path, size=batch_size)\n",
    "\n",
    "    imgs = []\n",
    "    for img_path in random_sample:\n",
    "        img = imread(img_path, image_res)\n",
    "        if not is_testing and np.random.random() > 0.5:\n",
    "            img = np.fliplr(img)\n",
    "        imgs.append(img)\n",
    "\n",
    "    return np.array(imgs)"
   ]
  },
  {
   "cell_type": "code",
   "execution_count": 10,
   "metadata": {},
   "outputs": [],
   "source": [
    "def imread(path, image_res=[128, 128]):\n",
    "    \"\"\"\n",
    "    Utility to read image in RGB format and normalize it\n",
    "    Parameters:\n",
    "        path        : type:list. Path to the image to be loaded\n",
    "        image_res   : type:int list. Array denoting the resized [H,W] of image\n",
    "    Returns:\n",
    "        A normalized and resized image\n",
    "    \"\"\"\n",
    "    img = plt.imread(path, format='RGB').astype(np.float64)\n",
    "    \n",
    "    if len(img.shape) == 2:\n",
    "        img = np.stack((img, img, img), axis=2)\n",
    "        img = tf.image.resize(img, image_res, preserve_aspect_ratio=True).numpy()\n",
    "        img = img * 2. - 1\n",
    "        \n",
    "    else:\n",
    "        img = tf.image.resize(img, image_res, preserve_aspect_ratio=True).numpy()\n",
    "        img = img/127.5 - 1\n",
    "        \n",
    "    \n",
    "    return img"
   ]
  },
  {
   "cell_type": "code",
   "execution_count": 11,
   "metadata": {},
   "outputs": [
    {
     "name": "stdout",
     "output_type": "stream",
     "text": [
      "Epoch=0\n",
      "[Epoch 0/5] [Discriminator loss: 2.4648715555667877, accuracy:45.1171875][Generator loss: 92.38209533691406, Adversarial Loss: 38.99508857727051, Reconstruction Loss: 0.6535064280033112,Identity Loss: 0.756615936756134]\n"
     ]
    },
    {
     "data": {
      "image/png": "[encoded data removed]",
      "text/plain": [
       "<Figure size 432x288 with 6 Axes>"
      ]
     },
     "metadata": {
      "needs_background": "light"
     },
     "output_type": "display_data"
    },
    {
     "name": "stdout",
     "output_type": "stream",
     "text": [
      "[Epoch 1/5] [Discriminator loss: 42.14450645446777, accuracy:55.3955078125][Generator loss: 56.355621337890625, Adversarial Loss: 18.654608726501465, Reconstruction Loss: 0.8646246790885925,Identity Loss: 0.9505764245986938]\n",
      "[Epoch 2/5] [Discriminator loss: 14.743582248687744, accuracy:48.73046875][Generator loss: 26.500898361206055, Adversarial Loss: 3.238594889640808, Reconstruction Loss: 0.909582257270813,Identity Loss: 1.034305453300476]\n",
      "[Epoch 3/5] [Discriminator loss: 11.257161378860474, accuracy:54.052734375][Generator loss: 25.87696075439453, Adversarial Loss: 2.835882246494293, Reconstruction Loss: 0.9183028340339661,Identity Loss: 0.8665666580200195]\n",
      "[Epoch 4/5] [Discriminator loss: 2.8558732122182846, accuracy:56.34765625][Generator loss: 24.138141632080078, Adversarial Loss: 0.9937887489795685, Reconstruction Loss: 1.0069178938865662,Identity Loss: 1.0957536697387695]\n",
      "[Epoch 5/5] [Discriminator loss: 1.4899764880537987, accuracy:51.2451171875][Generator loss: 1813.5552978515625, Adversarial Loss: 1.282905489206314, Reconstruction Loss: 82.31777364015579,Identity Loss: 1.1291611194610596]\n",
      "[Epoch 6/5] [Discriminator loss: 1.2525940388441086, accuracy:33.056640625][Generator loss: 20.773380279541016, Adversarial Loss: 0.5840770304203033, Reconstruction Loss: 0.8907517790794373,Identity Loss: 1.0470261573791504]\n",
      "[Epoch 7/5] [Discriminator loss: 1.343107983469963, accuracy:47.6806640625][Generator loss: 21.213884353637695, Adversarial Loss: 1.6867348849773407, Reconstruction Loss: 0.8100008368492126,Identity Loss: 0.8734095692634583]\n",
      "[Epoch 8/5] [Discriminator loss: 0.895622543990612, accuracy:30.2490234375][Generator loss: 18.827678680419922, Adversarial Loss: 0.6479887068271637, Reconstruction Loss: 0.7962309718132019,Identity Loss: 0.863518476486206]\n",
      "[Epoch 9/5] [Discriminator loss: 0.699984535574913, accuracy:39.7705078125][Generator loss: 18.980134963989258, Adversarial Loss: 0.5372112095355988, Reconstruction Loss: 0.812411367893219,Identity Loss: 0.908233642578125]\n",
      "[Epoch 10/5] [Discriminator loss: 0.6459029540419579, accuracy:48.4130859375][Generator loss: 17.590614318847656, Adversarial Loss: 0.5642879009246826, Reconstruction Loss: 0.7464246451854706,Identity Loss: 0.8917869329452515]\n",
      "[Epoch 11/5] [Discriminator loss: 0.5928489714860916, accuracy:50.09765625][Generator loss: 16.528564453125, Adversarial Loss: 0.4392210841178894, Reconstruction Loss: 0.7105427980422974,Identity Loss: 0.845672607421875]\n",
      "[Epoch 12/5] [Discriminator loss: 0.5191542580723763, accuracy:51.3427734375][Generator loss: 13.207878112792969, Adversarial Loss: 0.36033374071121216, Reconstruction Loss: 0.5667896270751953,Identity Loss: 0.8228511214256287]\n"
     ]
    },
    {
     "ename": "KeyboardInterrupt",
     "evalue": "",
     "output_type": "error",
     "traceback": [
      "\u001b[1;31m---------------------------------------------------------------------------\u001b[0m",
      "\u001b[1;31mKeyboardInterrupt\u001b[0m                         Traceback (most recent call last)",
      "\u001b[1;32m~\\AppData\\Local\\Temp\\ipykernel_19020\\3419768291.py\u001b[0m in \u001b[0;36m<cell line: 1>\u001b[1;34m()\u001b[0m\n\u001b[1;32m----> 1\u001b[1;33m \u001b[0mtrain\u001b[0m\u001b[1;33m(\u001b[0m\u001b[0mgen_AB\u001b[0m\u001b[1;33m,\u001b[0m\u001b[0mgen_BA\u001b[0m\u001b[1;33m,\u001b[0m\u001b[0mdisc_A\u001b[0m\u001b[1;33m,\u001b[0m\u001b[0mdisc_B\u001b[0m\u001b[1;33m,\u001b[0m\u001b[0mgan\u001b[0m\u001b[1;33m,\u001b[0m\u001b[0mpatch_gan_shape\u001b[0m\u001b[1;33m,\u001b[0m\u001b[1;36m5\u001b[0m\u001b[1;33m)\u001b[0m\u001b[1;33m\u001b[0m\u001b[1;33m\u001b[0m\u001b[0m\n\u001b[0m",
      "\u001b[1;32m~\\AppData\\Local\\Temp\\ipykernel_19020\\4155998717.py\u001b[0m in \u001b[0;36mtrain\u001b[1;34m(gen_AB, gen_BA, disc_A, disc_B, gan, patch_gan_shape, epochs, path, batch_size, sample_interval)\u001b[0m\n\u001b[0;32m     34\u001b[0m \u001b[1;33m\u001b[0m\u001b[0m\n\u001b[0;32m     35\u001b[0m             \u001b[1;31m# train generator\u001b[0m\u001b[1;33m\u001b[0m\u001b[1;33m\u001b[0m\u001b[0m\n\u001b[1;32m---> 36\u001b[1;33m             \u001b[0mgen_loss\u001b[0m \u001b[1;33m=\u001b[0m \u001b[0mgan\u001b[0m\u001b[1;33m.\u001b[0m\u001b[0mtrain_on_batch\u001b[0m\u001b[1;33m(\u001b[0m\u001b[1;33m[\u001b[0m\u001b[0mimgs_A\u001b[0m\u001b[1;33m,\u001b[0m \u001b[0mimgs_B\u001b[0m\u001b[1;33m]\u001b[0m\u001b[1;33m,\u001b[0m\u001b[1;33m[\u001b[0m\u001b[0mreal_y\u001b[0m\u001b[1;33m,\u001b[0m \u001b[0mreal_y\u001b[0m\u001b[1;33m,\u001b[0m\u001b[0mimgs_A\u001b[0m\u001b[1;33m,\u001b[0m \u001b[0mimgs_B\u001b[0m\u001b[1;33m,\u001b[0m\u001b[0mimgs_A\u001b[0m\u001b[1;33m,\u001b[0m \u001b[0mimgs_B\u001b[0m\u001b[1;33m]\u001b[0m\u001b[1;33m)\u001b[0m\u001b[1;33m\u001b[0m\u001b[1;33m\u001b[0m\u001b[0m\n\u001b[0m\u001b[0;32m     37\u001b[0m \u001b[1;33m\u001b[0m\u001b[0m\n\u001b[0;32m     38\u001b[0m             \u001b[1;31m# training updates every 50 iterations\u001b[0m\u001b[1;33m\u001b[0m\u001b[1;33m\u001b[0m\u001b[0m\n",
      "\u001b[1;32mc:\\Users\\Utilisateur\\AppData\\Local\\Programs\\Python\\Python310\\lib\\site-packages\\keras\\engine\\training.py\u001b[0m in \u001b[0;36mtrain_on_batch\u001b[1;34m(self, x, y, sample_weight, class_weight, reset_metrics, return_dict)\u001b[0m\n\u001b[0;32m   2091\u001b[0m                                                     class_weight)\n\u001b[0;32m   2092\u001b[0m       \u001b[0mself\u001b[0m\u001b[1;33m.\u001b[0m\u001b[0mtrain_function\u001b[0m \u001b[1;33m=\u001b[0m \u001b[0mself\u001b[0m\u001b[1;33m.\u001b[0m\u001b[0mmake_train_function\u001b[0m\u001b[1;33m(\u001b[0m\u001b[1;33m)\u001b[0m\u001b[1;33m\u001b[0m\u001b[1;33m\u001b[0m\u001b[0m\n\u001b[1;32m-> 2093\u001b[1;33m       \u001b[0mlogs\u001b[0m \u001b[1;33m=\u001b[0m \u001b[0mself\u001b[0m\u001b[1;33m.\u001b[0m\u001b[0mtrain_function\u001b[0m\u001b[1;33m(\u001b[0m\u001b[0miterator\u001b[0m\u001b[1;33m)\u001b[0m\u001b[1;33m\u001b[0m\u001b[1;33m\u001b[0m\u001b[0m\n\u001b[0m\u001b[0;32m   2094\u001b[0m \u001b[1;33m\u001b[0m\u001b[0m\n\u001b[0;32m   2095\u001b[0m     \u001b[0mlogs\u001b[0m \u001b[1;33m=\u001b[0m \u001b[0mtf_utils\u001b[0m\u001b[1;33m.\u001b[0m\u001b[0msync_to_numpy_or_python_type\u001b[0m\u001b[1;33m(\u001b[0m\u001b[0mlogs\u001b[0m\u001b[1;33m)\u001b[0m\u001b[1;33m\u001b[0m\u001b[1;33m\u001b[0m\u001b[0m\n",
      "\u001b[1;32mc:\\Users\\Utilisateur\\AppData\\Local\\Programs\\Python\\Python310\\lib\\site-packages\\tensorflow\\python\\util\\traceback_utils.py\u001b[0m in \u001b[0;36merror_handler\u001b[1;34m(*args, **kwargs)\u001b[0m\n\u001b[0;32m    148\u001b[0m     \u001b[0mfiltered_tb\u001b[0m \u001b[1;33m=\u001b[0m \u001b[1;32mNone\u001b[0m\u001b[1;33m\u001b[0m\u001b[1;33m\u001b[0m\u001b[0m\n\u001b[0;32m    149\u001b[0m     \u001b[1;32mtry\u001b[0m\u001b[1;33m:\u001b[0m\u001b[1;33m\u001b[0m\u001b[1;33m\u001b[0m\u001b[0m\n\u001b[1;32m--> 150\u001b[1;33m       \u001b[1;32mreturn\u001b[0m \u001b[0mfn\u001b[0m\u001b[1;33m(\u001b[0m\u001b[1;33m*\u001b[0m\u001b[0margs\u001b[0m\u001b[1;33m,\u001b[0m \u001b[1;33m**\u001b[0m\u001b[0mkwargs\u001b[0m\u001b[1;33m)\u001b[0m\u001b[1;33m\u001b[0m\u001b[1;33m\u001b[0m\u001b[0m\n\u001b[0m\u001b[0;32m    151\u001b[0m     \u001b[1;32mexcept\u001b[0m \u001b[0mException\u001b[0m \u001b[1;32mas\u001b[0m \u001b[0me\u001b[0m\u001b[1;33m:\u001b[0m\u001b[1;33m\u001b[0m\u001b[1;33m\u001b[0m\u001b[0m\n\u001b[0;32m    152\u001b[0m       \u001b[0mfiltered_tb\u001b[0m \u001b[1;33m=\u001b[0m \u001b[0m_process_traceback_frames\u001b[0m\u001b[1;33m(\u001b[0m\u001b[0me\u001b[0m\u001b[1;33m.\u001b[0m\u001b[0m__traceback__\u001b[0m\u001b[1;33m)\u001b[0m\u001b[1;33m\u001b[0m\u001b[1;33m\u001b[0m\u001b[0m\n",
      "\u001b[1;32mc:\\Users\\Utilisateur\\AppData\\Local\\Programs\\Python\\Python310\\lib\\site-packages\\tensorflow\\python\\eager\\def_function.py\u001b[0m in \u001b[0;36m__call__\u001b[1;34m(self, *args, **kwds)\u001b[0m\n\u001b[0;32m    913\u001b[0m \u001b[1;33m\u001b[0m\u001b[0m\n\u001b[0;32m    914\u001b[0m       \u001b[1;32mwith\u001b[0m \u001b[0mOptionalXlaContext\u001b[0m\u001b[1;33m(\u001b[0m\u001b[0mself\u001b[0m\u001b[1;33m.\u001b[0m\u001b[0m_jit_compile\u001b[0m\u001b[1;33m)\u001b[0m\u001b[1;33m:\u001b[0m\u001b[1;33m\u001b[0m\u001b[1;33m\u001b[0m\u001b[0m\n\u001b[1;32m--> 915\u001b[1;33m         \u001b[0mresult\u001b[0m \u001b[1;33m=\u001b[0m \u001b[0mself\u001b[0m\u001b[1;33m.\u001b[0m\u001b[0m_call\u001b[0m\u001b[1;33m(\u001b[0m\u001b[1;33m*\u001b[0m\u001b[0margs\u001b[0m\u001b[1;33m,\u001b[0m \u001b[1;33m**\u001b[0m\u001b[0mkwds\u001b[0m\u001b[1;33m)\u001b[0m\u001b[1;33m\u001b[0m\u001b[1;33m\u001b[0m\u001b[0m\n\u001b[0m\u001b[0;32m    916\u001b[0m \u001b[1;33m\u001b[0m\u001b[0m\n\u001b[0;32m    917\u001b[0m       \u001b[0mnew_tracing_count\u001b[0m \u001b[1;33m=\u001b[0m \u001b[0mself\u001b[0m\u001b[1;33m.\u001b[0m\u001b[0mexperimental_get_tracing_count\u001b[0m\u001b[1;33m(\u001b[0m\u001b[1;33m)\u001b[0m\u001b[1;33m\u001b[0m\u001b[1;33m\u001b[0m\u001b[0m\n",
      "\u001b[1;32mc:\\Users\\Utilisateur\\AppData\\Local\\Programs\\Python\\Python310\\lib\\site-packages\\tensorflow\\python\\eager\\def_function.py\u001b[0m in \u001b[0;36m_call\u001b[1;34m(self, *args, **kwds)\u001b[0m\n\u001b[0;32m    945\u001b[0m       \u001b[1;31m# In this case we have created variables on the first call, so we run the\u001b[0m\u001b[1;33m\u001b[0m\u001b[1;33m\u001b[0m\u001b[0m\n\u001b[0;32m    946\u001b[0m       \u001b[1;31m# defunned version which is guaranteed to never create variables.\u001b[0m\u001b[1;33m\u001b[0m\u001b[1;33m\u001b[0m\u001b[0m\n\u001b[1;32m--> 947\u001b[1;33m       \u001b[1;32mreturn\u001b[0m \u001b[0mself\u001b[0m\u001b[1;33m.\u001b[0m\u001b[0m_stateless_fn\u001b[0m\u001b[1;33m(\u001b[0m\u001b[1;33m*\u001b[0m\u001b[0margs\u001b[0m\u001b[1;33m,\u001b[0m \u001b[1;33m**\u001b[0m\u001b[0mkwds\u001b[0m\u001b[1;33m)\u001b[0m  \u001b[1;31m# pylint: disable=not-callable\u001b[0m\u001b[1;33m\u001b[0m\u001b[1;33m\u001b[0m\u001b[0m\n\u001b[0m\u001b[0;32m    948\u001b[0m     \u001b[1;32melif\u001b[0m \u001b[0mself\u001b[0m\u001b[1;33m.\u001b[0m\u001b[0m_stateful_fn\u001b[0m \u001b[1;32mis\u001b[0m \u001b[1;32mnot\u001b[0m \u001b[1;32mNone\u001b[0m\u001b[1;33m:\u001b[0m\u001b[1;33m\u001b[0m\u001b[1;33m\u001b[0m\u001b[0m\n\u001b[0;32m    949\u001b[0m       \u001b[1;31m# Release the lock early so that multiple threads can perform the call\u001b[0m\u001b[1;33m\u001b[0m\u001b[1;33m\u001b[0m\u001b[0m\n",
      "\u001b[1;32mc:\\Users\\Utilisateur\\AppData\\Local\\Programs\\Python\\Python310\\lib\\site-packages\\tensorflow\\python\\eager\\function.py\u001b[0m in \u001b[0;36m__call__\u001b[1;34m(self, *args, **kwargs)\u001b[0m\n\u001b[0;32m   2954\u001b[0m       (graph_function,\n\u001b[0;32m   2955\u001b[0m        filtered_flat_args) = self._maybe_define_function(args, kwargs)\n\u001b[1;32m-> 2956\u001b[1;33m     return graph_function._call_flat(\n\u001b[0m\u001b[0;32m   2957\u001b[0m         filtered_flat_args, captured_inputs=graph_function.captured_inputs)  # pylint: disable=protected-access\n\u001b[0;32m   2958\u001b[0m \u001b[1;33m\u001b[0m\u001b[0m\n",
      "\u001b[1;32mc:\\Users\\Utilisateur\\AppData\\Local\\Programs\\Python\\Python310\\lib\\site-packages\\tensorflow\\python\\eager\\function.py\u001b[0m in \u001b[0;36m_call_flat\u001b[1;34m(self, args, captured_inputs, cancellation_manager)\u001b[0m\n\u001b[0;32m   1851\u001b[0m         and executing_eagerly):\n\u001b[0;32m   1852\u001b[0m       \u001b[1;31m# No tape is watching; skip to running the function.\u001b[0m\u001b[1;33m\u001b[0m\u001b[1;33m\u001b[0m\u001b[0m\n\u001b[1;32m-> 1853\u001b[1;33m       return self._build_call_outputs(self._inference_function.call(\n\u001b[0m\u001b[0;32m   1854\u001b[0m           ctx, args, cancellation_manager=cancellation_manager))\n\u001b[0;32m   1855\u001b[0m     forward_backward = self._select_forward_and_backward_functions(\n",
      "\u001b[1;32mc:\\Users\\Utilisateur\\AppData\\Local\\Programs\\Python\\Python310\\lib\\site-packages\\tensorflow\\python\\eager\\function.py\u001b[0m in \u001b[0;36mcall\u001b[1;34m(self, ctx, args, cancellation_manager)\u001b[0m\n\u001b[0;32m    497\u001b[0m       \u001b[1;32mwith\u001b[0m \u001b[0m_InterpolateFunctionError\u001b[0m\u001b[1;33m(\u001b[0m\u001b[0mself\u001b[0m\u001b[1;33m)\u001b[0m\u001b[1;33m:\u001b[0m\u001b[1;33m\u001b[0m\u001b[1;33m\u001b[0m\u001b[0m\n\u001b[0;32m    498\u001b[0m         \u001b[1;32mif\u001b[0m \u001b[0mcancellation_manager\u001b[0m \u001b[1;32mis\u001b[0m \u001b[1;32mNone\u001b[0m\u001b[1;33m:\u001b[0m\u001b[1;33m\u001b[0m\u001b[1;33m\u001b[0m\u001b[0m\n\u001b[1;32m--> 499\u001b[1;33m           outputs = execute.execute(\n\u001b[0m\u001b[0;32m    500\u001b[0m               \u001b[0mstr\u001b[0m\u001b[1;33m(\u001b[0m\u001b[0mself\u001b[0m\u001b[1;33m.\u001b[0m\u001b[0msignature\u001b[0m\u001b[1;33m.\u001b[0m\u001b[0mname\u001b[0m\u001b[1;33m)\u001b[0m\u001b[1;33m,\u001b[0m\u001b[1;33m\u001b[0m\u001b[1;33m\u001b[0m\u001b[0m\n\u001b[0;32m    501\u001b[0m               \u001b[0mnum_outputs\u001b[0m\u001b[1;33m=\u001b[0m\u001b[0mself\u001b[0m\u001b[1;33m.\u001b[0m\u001b[0m_num_outputs\u001b[0m\u001b[1;33m,\u001b[0m\u001b[1;33m\u001b[0m\u001b[1;33m\u001b[0m\u001b[0m\n",
      "\u001b[1;32mc:\\Users\\Utilisateur\\AppData\\Local\\Programs\\Python\\Python310\\lib\\site-packages\\tensorflow\\python\\eager\\execute.py\u001b[0m in \u001b[0;36mquick_execute\u001b[1;34m(op_name, num_outputs, inputs, attrs, ctx, name)\u001b[0m\n\u001b[0;32m     52\u001b[0m   \u001b[1;32mtry\u001b[0m\u001b[1;33m:\u001b[0m\u001b[1;33m\u001b[0m\u001b[1;33m\u001b[0m\u001b[0m\n\u001b[0;32m     53\u001b[0m     \u001b[0mctx\u001b[0m\u001b[1;33m.\u001b[0m\u001b[0mensure_initialized\u001b[0m\u001b[1;33m(\u001b[0m\u001b[1;33m)\u001b[0m\u001b[1;33m\u001b[0m\u001b[1;33m\u001b[0m\u001b[0m\n\u001b[1;32m---> 54\u001b[1;33m     tensors = pywrap_tfe.TFE_Py_Execute(ctx._handle, device_name, op_name,\n\u001b[0m\u001b[0;32m     55\u001b[0m                                         inputs, attrs, num_outputs)\n\u001b[0;32m     56\u001b[0m   \u001b[1;32mexcept\u001b[0m \u001b[0mcore\u001b[0m\u001b[1;33m.\u001b[0m\u001b[0m_NotOkStatusException\u001b[0m \u001b[1;32mas\u001b[0m \u001b[0me\u001b[0m\u001b[1;33m:\u001b[0m\u001b[1;33m\u001b[0m\u001b[1;33m\u001b[0m\u001b[0m\n",
      "\u001b[1;31mKeyboardInterrupt\u001b[0m: "
     ]
    }
   ],
   "source": [
    "train(gen_AB,gen_BA,disc_A,disc_B,gan,patch_gan_shape,5)"
   ]
  }
 ],
 "metadata": {
  "interpreter": {
   "hash": "a3d0e8e0c817ae3c7f78f66b04bafeb63523a0a50e6405ec1b074461715681e4"
  },
  "kernelspec": {
   "display_name": "Python 3.10.3 64-bit",
   "language": "python",
   "name": "python3"
  },
  "language_info": {
   "codemirror_mode": {
    "name": "ipython",
    "version": 3
   },
   "file_extension": ".py",
   "mimetype": "text/x-python",
   "name": "python",
   "nbconvert_exporter": "python",
   "pygments_lexer": "ipython3",
   "version": "3.10.3"
  }
 },
 "nbformat": 4,
 "nbformat_minor": 2
}
